{
 "cells": [
  {
   "cell_type": "markdown",
   "id": "d4247dd3-7dde-4c54-b39d-b18040fb66c8",
   "metadata": {},
   "source": [
    "## Learn Numpy"
   ]
  },
  {
   "cell_type": "code",
   "execution_count": 1,
   "id": "63578331-30bf-42a3-a4ef-1fe341625cca",
   "metadata": {},
   "outputs": [],
   "source": [
    "import numpy as np"
   ]
  },
  {
   "cell_type": "code",
   "execution_count": 2,
   "id": "6b857d1a-c38b-41fc-acbf-231044eacffc",
   "metadata": {},
   "outputs": [
    {
     "data": {
      "text/plain": [
       "'1.26.4'"
      ]
     },
     "execution_count": 2,
     "metadata": {},
     "output_type": "execute_result"
    }
   ],
   "source": [
    "np.__version__"
   ]
  },
  {
   "cell_type": "markdown",
   "id": "2ff486ec-7a92-4398-983b-ef06a8a20e43",
   "metadata": {},
   "source": [
    "NumPy (Numerical Python) is a fundamental Python library for numerical computing. It provides support for multi-dimensional arrays and matrices, along with a collection of mathematical functions to perform operations on these arrays efficiently. NumPy is widely used in data analysis, machine learning, and scientific computing due to its speed and versatility."
   ]
  },
  {
   "cell_type": "markdown",
   "id": "ddb7f5a0-640d-4d0d-895d-faaf6d74911f",
   "metadata": {},
   "source": [
    "## Create & Read"
   ]
  },
  {
   "cell_type": "markdown",
   "id": "43cd5305-0b69-4591-8793-1854cd1106c8",
   "metadata": {},
   "source": [
    "#### 1D Array"
   ]
  },
  {
   "cell_type": "code",
   "execution_count": 4,
   "id": "9c12a311-4287-4226-9ba6-658db40adfeb",
   "metadata": {},
   "outputs": [
    {
     "data": {
      "text/plain": [
       "array([1, 2, 3, 4, 5])"
      ]
     },
     "execution_count": 4,
     "metadata": {},
     "output_type": "execute_result"
    }
   ],
   "source": [
    "# Create one dimensional array\n",
    "arr1 = np.array([1, 2, 3, 4, 5])\n",
    "arr1"
   ]
  },
  {
   "cell_type": "code",
   "execution_count": 5,
   "id": "08cf384c-a5c2-461a-a1ce-60834fb5e155",
   "metadata": {},
   "outputs": [
    {
     "data": {
      "text/plain": [
       "numpy.ndarray"
      ]
     },
     "execution_count": 5,
     "metadata": {},
     "output_type": "execute_result"
    }
   ],
   "source": [
    "# Get the type of the array\n",
    "type(arr1)"
   ]
  },
  {
   "cell_type": "code",
   "execution_count": 6,
   "id": "10c6c20a-c921-48c9-aa2c-592447db76da",
   "metadata": {},
   "outputs": [
    {
     "data": {
      "text/plain": [
       "(5,)"
      ]
     },
     "execution_count": 6,
     "metadata": {},
     "output_type": "execute_result"
    }
   ],
   "source": [
    "# See the shape of the array\n",
    "arr1.shape"
   ]
  },
  {
   "cell_type": "code",
   "execution_count": 7,
   "id": "110f53d7-b238-4795-8edd-26b796f8866f",
   "metadata": {},
   "outputs": [
    {
     "data": {
      "text/plain": [
       "dtype('int32')"
      ]
     },
     "execution_count": 7,
     "metadata": {},
     "output_type": "execute_result"
    }
   ],
   "source": [
    "# Data types of the elements\n",
    "arr1.dtype"
   ]
  },
  {
   "cell_type": "code",
   "execution_count": 8,
   "id": "de5ae85d-1a59-4e03-bc3c-0a7554761809",
   "metadata": {},
   "outputs": [
    {
     "data": {
      "text/plain": [
       "1"
      ]
     },
     "execution_count": 8,
     "metadata": {},
     "output_type": "execute_result"
    }
   ],
   "source": [
    "# Check array type\n",
    "arr1.ndim"
   ]
  },
  {
   "cell_type": "code",
   "execution_count": 10,
   "id": "8952278b-1f14-4c29-90ad-7961f8e0307b",
   "metadata": {},
   "outputs": [
    {
     "data": {
      "text/plain": [
       "5"
      ]
     },
     "execution_count": 10,
     "metadata": {},
     "output_type": "execute_result"
    }
   ],
   "source": [
    "# Array size\n",
    "arr1.size"
   ]
  },
  {
   "cell_type": "code",
   "execution_count": null,
   "id": "51ef81cd-7b80-46b0-80e5-3ddac31760c8",
   "metadata": {},
   "outputs": [],
   "source": []
  },
  {
   "cell_type": "code",
   "execution_count": null,
   "id": "077b10f2-7376-44bd-a46b-831f57c0b508",
   "metadata": {},
   "outputs": [],
   "source": []
  },
  {
   "cell_type": "markdown",
   "id": "1b3a5d77-661a-4667-b002-a9c29076a6c9",
   "metadata": {},
   "source": [
    "#### 2D Array"
   ]
  },
  {
   "cell_type": "code",
   "execution_count": 12,
   "id": "d671957e-1701-404e-8a25-7f7978ecb4d6",
   "metadata": {},
   "outputs": [
    {
     "data": {
      "text/plain": [
       "array([[ 1,  4,  6],\n",
       "       [25, 78, 90]])"
      ]
     },
     "execution_count": 12,
     "metadata": {},
     "output_type": "execute_result"
    }
   ],
   "source": [
    "arr2 = np.array([[1, 4, 6], [25, 78, 90]])\n",
    "arr2"
   ]
  },
  {
   "cell_type": "code",
   "execution_count": 13,
   "id": "a96031c1-3bc5-40af-b6f0-3ecade0ad099",
   "metadata": {},
   "outputs": [
    {
     "data": {
      "text/plain": [
       "2"
      ]
     },
     "execution_count": 13,
     "metadata": {},
     "output_type": "execute_result"
    }
   ],
   "source": [
    "# Check the dimension\n",
    "arr2.ndim"
   ]
  },
  {
   "cell_type": "code",
   "execution_count": 14,
   "id": "25d31f1d-1c3b-4de6-b454-0a8a371598a2",
   "metadata": {},
   "outputs": [
    {
     "data": {
      "text/plain": [
       "(2, 3)"
      ]
     },
     "execution_count": 14,
     "metadata": {},
     "output_type": "execute_result"
    }
   ],
   "source": [
    "# Check the shape\n",
    "arr2.shape"
   ]
  },
  {
   "cell_type": "code",
   "execution_count": 16,
   "id": "a6963736-13aa-4274-b29c-2d34308d8f50",
   "metadata": {},
   "outputs": [
    {
     "data": {
      "text/plain": [
       "6"
      ]
     },
     "execution_count": 16,
     "metadata": {},
     "output_type": "execute_result"
    }
   ],
   "source": [
    "# Check the size\n",
    "# that's number of element in an array\n",
    "arr2.size"
   ]
  },
  {
   "cell_type": "markdown",
   "id": "0b6b203a-bb5f-4313-8051-5b3ebb2619b3",
   "metadata": {},
   "source": [
    "#### 3D Array"
   ]
  },
  {
   "cell_type": "markdown",
   "id": "569d82fb-e2fc-4ce9-b055-7d09f99a3591",
   "metadata": {},
   "source": [
    "A 3D array in NumPy is a collection of 2D arrays (matrices), organized along a third dimension. It is essentially a stack of arrays, allowing you to store and manipulate data in three dimensions (e.g., height, rows, and columns)."
   ]
  },
  {
   "cell_type": "code",
   "execution_count": 18,
   "id": "3736cd7e-aeb7-4214-a277-ef56b5cde59a",
   "metadata": {},
   "outputs": [
    {
     "data": {
      "text/plain": [
       "array([[[ 1,  2,  3,  4],\n",
       "        [ 5,  6,  7,  8],\n",
       "        [ 9, 10, 11, 12]],\n",
       "\n",
       "       [[13, 14, 15, 16],\n",
       "        [17, 18, 19, 20],\n",
       "        [21, 22, 23, 24]]])"
      ]
     },
     "execution_count": 18,
     "metadata": {},
     "output_type": "execute_result"
    }
   ],
   "source": [
    "import numpy as np\n",
    "\n",
    "# Create a 3D array with shape (2, 3, 4)\n",
    "array_3d = np.array([[[1, 2, 3, 4],\n",
    "                      [5, 6, 7, 8],\n",
    "                      [9, 10, 11, 12]],\n",
    "\n",
    "                     [[13, 14, 15, 16],\n",
    "                      [17, 18, 19, 20],\n",
    "                      [21, 22, 23, 24]]])\n",
    "\n",
    "array_3d\n"
   ]
  },
  {
   "cell_type": "code",
   "execution_count": 19,
   "id": "895f3e35-0823-4cd5-97f8-cf1ff5f9687f",
   "metadata": {},
   "outputs": [
    {
     "data": {
      "text/plain": [
       "(2, 3, 4)"
      ]
     },
     "execution_count": 19,
     "metadata": {},
     "output_type": "execute_result"
    }
   ],
   "source": [
    "array_3d.shape"
   ]
  },
  {
   "cell_type": "markdown",
   "id": "855e1f6f-fbe7-465d-8c60-5e3fc4a8348f",
   "metadata": {},
   "source": [
    "*Shape:* (2, 3, 4) — 2 matrices, each with 3 rows and 4 columns."
   ]
  },
  {
   "cell_type": "markdown",
   "id": "ada755a0-faca-4c6d-af5d-fda77c5de5ad",
   "metadata": {},
   "source": [
    "#### Access Elements in 3D Array"
   ]
  },
  {
   "cell_type": "code",
   "execution_count": 20,
   "id": "3a5e9a08-7fae-4550-b250-04222c44f61b",
   "metadata": {},
   "outputs": [
    {
     "name": "stdout",
     "output_type": "stream",
     "text": [
      "7\n"
     ]
    }
   ],
   "source": [
    "print(array_3d[0, 1, 2])  # Access element in 1st matrix, 2nd row, 3rd column\n"
   ]
  },
  {
   "cell_type": "markdown",
   "id": "517a8afc-ee78-479a-805f-5a81d8ce80b0",
   "metadata": {},
   "source": [
    "In NumPy, all 2D arrays (or slices) within a 3D array must have the same size. This is because NumPy arrays are designed to be efficient and require a fixed shape for each dimension."
   ]
  },
  {
   "cell_type": "markdown",
   "id": "b0ce2469-c98c-42cd-9c67-d2a40d09fe23",
   "metadata": {},
   "source": [
    "For example, a 3D array with shape (2, 3, 4) has:\n",
    "\n",
    " - 2 matrices (first dimension),\n",
    " - each with 3 rows (second dimension),\n",
    " - and 4 columns (third dimension)."
   ]
  },
  {
   "cell_type": "markdown",
   "id": "792d8045-0f6d-4f6e-a42c-07e0fdc4b402",
   "metadata": {},
   "source": [
    "Each 2D array (matrix) must have exactly 3 × 4 elements.\n",
    "\n",
    "If you try to create a 3D array with 2D arrays of varying sizes, NumPy will not create a true 3D array. Instead, it will create an array of objects (dtype=object), which is less efficient and does not support typical array operations like slicing or broadcasting."
   ]
  },
  {
   "cell_type": "code",
   "execution_count": null,
   "id": "b4e03935-2e26-404f-9041-c6d1de5b1c45",
   "metadata": {},
   "outputs": [],
   "source": []
  },
  {
   "cell_type": "code",
   "execution_count": null,
   "id": "43cb1b14-f9a5-4e0c-b64e-d17daec27c2c",
   "metadata": {},
   "outputs": [],
   "source": []
  },
  {
   "cell_type": "markdown",
   "id": "ea2d7c95-579f-4285-a10e-6f2eb3dfe152",
   "metadata": {},
   "source": [
    "#### Create random arrays"
   ]
  },
  {
   "cell_type": "code",
   "execution_count": 21,
   "id": "98cc517c-d05a-44f3-8612-cea7e7e82b3b",
   "metadata": {},
   "outputs": [
    {
     "data": {
      "text/plain": [
       "array([[[0.40272864, 0.88046706, 0.45497885],\n",
       "        [0.2815239 , 0.28912258, 0.19991599]],\n",
       "\n",
       "       [[0.26932656, 0.17820489, 0.37304879],\n",
       "        [0.87179773, 0.06150348, 0.17029643]],\n",
       "\n",
       "       [[0.91752732, 0.62248231, 0.13075802],\n",
       "        [0.32448013, 0.16300391, 0.75602356]]])"
      ]
     },
     "execution_count": 21,
     "metadata": {},
     "output_type": "execute_result"
    }
   ],
   "source": [
    "randomArr = np.random.rand(3,2,3)\n",
    "randomArr"
   ]
  },
  {
   "cell_type": "code",
   "execution_count": 22,
   "id": "a12bf8a2-957a-425a-9a53-b4beb67d6edf",
   "metadata": {},
   "outputs": [
    {
     "data": {
      "text/plain": [
       "dtype('float64')"
      ]
     },
     "execution_count": 22,
     "metadata": {},
     "output_type": "execute_result"
    }
   ],
   "source": [
    "randomArr.dtype"
   ]
  },
  {
   "cell_type": "code",
   "execution_count": 24,
   "id": "02bbf472-1a9d-4f87-af61-6deac95d1057",
   "metadata": {},
   "outputs": [
    {
     "data": {
      "text/plain": [
       "array([[[0., 0., 0.],\n",
       "        [0., 0., 0.]],\n",
       "\n",
       "       [[0., 0., 0.],\n",
       "        [0., 0., 0.]],\n",
       "\n",
       "       [[0., 0., 0.],\n",
       "        [0., 0., 0.]]])"
      ]
     },
     "execution_count": 24,
     "metadata": {},
     "output_type": "execute_result"
    }
   ],
   "source": [
    "# Create array with zeros\n",
    "zeros = np.zeros((3, 2, 3))\n",
    "zeros"
   ]
  },
  {
   "cell_type": "code",
   "execution_count": 26,
   "id": "a567a210-0185-4111-9a53-87f8d01d0666",
   "metadata": {},
   "outputs": [
    {
     "data": {
      "text/plain": [
       "3"
      ]
     },
     "execution_count": 26,
     "metadata": {},
     "output_type": "execute_result"
    }
   ],
   "source": [
    "# Check the dimension\n",
    "zeros.ndim"
   ]
  },
  {
   "cell_type": "code",
   "execution_count": 29,
   "id": "b45c8898-3a19-48e8-bdbb-f451c86f59a7",
   "metadata": {},
   "outputs": [
    {
     "data": {
      "text/plain": [
       "array([[[9, 9, 9],\n",
       "        [9, 9, 9]],\n",
       "\n",
       "       [[9, 9, 9],\n",
       "        [9, 9, 9]],\n",
       "\n",
       "       [[9, 9, 9],\n",
       "        [9, 9, 9]]])"
      ]
     },
     "execution_count": 29,
     "metadata": {},
     "output_type": "execute_result"
    }
   ],
   "source": [
    "# Replace the zeros with actual numbers\n",
    "full = np.full((3, 2, 3), 9)\n",
    "full"
   ]
  },
  {
   "cell_type": "code",
   "execution_count": null,
   "id": "63e1c124-5d2e-423c-bdd0-657c247966ab",
   "metadata": {},
   "outputs": [],
   "source": []
  },
  {
   "cell_type": "code",
   "execution_count": null,
   "id": "4bdf3ea2-88a3-4f78-a820-0885df9e0b8f",
   "metadata": {},
   "outputs": [],
   "source": []
  },
  {
   "cell_type": "markdown",
   "id": "5ae10b85-a9a8-46f8-b278-252d8e163dfd",
   "metadata": {},
   "source": [
    "#### Slicing 3D Array"
   ]
  },
  {
   "cell_type": "code",
   "execution_count": 30,
   "id": "13d0ae49-eb39-4a2d-be22-01497e03d205",
   "metadata": {},
   "outputs": [
    {
     "data": {
      "text/plain": [
       "array([[[74, 31,  5, 29],\n",
       "        [84, 77, 66, 98],\n",
       "        [62, 76, 54, 80]],\n",
       "\n",
       "       [[32, 17,  8, 91],\n",
       "        [81, 37, 87, 37],\n",
       "        [18, 27, 13, 55]],\n",
       "\n",
       "       [[67, 70, 71, 98],\n",
       "        [86, 67, 22, 25],\n",
       "        [62, 75, 96, 15]],\n",
       "\n",
       "       [[58, 95, 79, 79],\n",
       "        [82, 96,  6,  7],\n",
       "        [56, 59, 37, 54]]])"
      ]
     },
     "execution_count": 30,
     "metadata": {},
     "output_type": "execute_result"
    }
   ],
   "source": [
    "arr3d = np.array([[[74, 31,  5, 29],\n",
    "                    [84, 77, 66, 98],\n",
    "                    [62, 76, 54, 80]],\n",
    "            \n",
    "                   [[32, 17,  8, 91],\n",
    "                    [81, 37, 87, 37],\n",
    "                    [18, 27, 13, 55]],\n",
    "            \n",
    "                   [[67, 70, 71, 98],\n",
    "                    [86, 67, 22, 25],\n",
    "                    [62, 75, 96, 15]],\n",
    "            \n",
    "                   [[58, 95, 79, 79],\n",
    "                    [82, 96,  6,  7],\n",
    "                    [56, 59, 37, 54]]])\n",
    "\n",
    "arr3d\n"
   ]
  },
  {
   "cell_type": "code",
   "execution_count": 31,
   "id": "1177fe23-a858-4be2-8cd8-91567b019c4d",
   "metadata": {},
   "outputs": [
    {
     "data": {
      "text/plain": [
       "array([[74, 31,  5, 29],\n",
       "       [84, 77, 66, 98],\n",
       "       [62, 76, 54, 80]])"
      ]
     },
     "execution_count": 31,
     "metadata": {},
     "output_type": "execute_result"
    }
   ],
   "source": [
    "# Access first index of the 3D Array\n",
    "arr3d[0]"
   ]
  },
  {
   "cell_type": "markdown",
   "id": "06d67fbd-46d9-4853-9d24-f834047c4618",
   "metadata": {},
   "source": [
    "The first 2D array inside the 3D array"
   ]
  },
  {
   "cell_type": "code",
   "execution_count": 32,
   "id": "8ff1bf02-283e-4f2e-9b52-5da349345e7f",
   "metadata": {},
   "outputs": [
    {
     "data": {
      "text/plain": [
       "array([74, 31,  5, 29])"
      ]
     },
     "execution_count": 32,
     "metadata": {},
     "output_type": "execute_result"
    }
   ],
   "source": [
    "# Access the first index of the first 2D array inside the 3D array\n",
    "\n",
    "arr3d[0][0]"
   ]
  },
  {
   "cell_type": "code",
   "execution_count": 33,
   "id": "6013907b-b131-4336-9920-89c8b95b2265",
   "metadata": {},
   "outputs": [
    {
     "data": {
      "text/plain": [
       "array([[[74, 31,  5, 29],\n",
       "        [84, 77, 66, 98],\n",
       "        [62, 76, 54, 80]],\n",
       "\n",
       "       [[32, 17,  8, 91],\n",
       "        [81, 37, 87, 37],\n",
       "        [18, 27, 13, 55]]])"
      ]
     },
     "execution_count": 33,
     "metadata": {},
     "output_type": "execute_result"
    }
   ],
   "source": [
    "# slice 0 to 1. 1 inclueded\n",
    "arr3d[0:2]"
   ]
  },
  {
   "cell_type": "code",
   "execution_count": 34,
   "id": "e15941c3-3b24-4801-ad08-4d11517ccecd",
   "metadata": {},
   "outputs": [
    {
     "data": {
      "text/plain": [
       "17"
      ]
     },
     "execution_count": 34,
     "metadata": {},
     "output_type": "execute_result"
    }
   ],
   "source": [
    "# Accessing single element\n",
    "arr3d[1][0][1]"
   ]
  },
  {
   "cell_type": "code",
   "execution_count": 35,
   "id": "9a28f0da-0ad9-4f28-b7b5-b2379beb127d",
   "metadata": {},
   "outputs": [
    {
     "data": {
      "text/plain": [
       "17"
      ]
     },
     "execution_count": 35,
     "metadata": {},
     "output_type": "execute_result"
    }
   ],
   "source": [
    "# You can perform the same operation above another way:\n",
    "arr3d[1, 0, 1]"
   ]
  },
  {
   "cell_type": "markdown",
   "id": "bf9a34ff-74d1-4def-96c8-d09547019e30",
   "metadata": {},
   "source": [
    "#### Update & Delete"
   ]
  },
  {
   "cell_type": "code",
   "execution_count": null,
   "id": "b1a73c71-ce6d-4b83-94b1-3d92ac546d19",
   "metadata": {},
   "outputs": [],
   "source": []
  },
  {
   "cell_type": "code",
   "execution_count": 40,
   "id": "0aaecede-8676-42b0-8918-ff64a108d8cb",
   "metadata": {},
   "outputs": [],
   "source": [
    "ar_1 = np.array([[[9, 5],\n",
    "                  [7, 8],\n",
    "                  [1, 2]],\n",
    "                \n",
    "                 [[2, 1],\n",
    "                  [6, 8],\n",
    "                  [1, 1]]])\n",
    "\n",
    "ar_2 = np.array([[[2, 2],\n",
    "                  [5, 3],\n",
    "                  [7, 6]],\n",
    "                \n",
    "                 [[7, 4],\n",
    "                  [8, 7],\n",
    "                  [8, 3]]])"
   ]
  },
  {
   "cell_type": "code",
   "execution_count": 41,
   "id": "7205c993-b469-4126-9d66-b89819c3ce84",
   "metadata": {},
   "outputs": [
    {
     "data": {
      "text/plain": [
       "array([[[9, 5],\n",
       "        [7, 8],\n",
       "        [1, 2]],\n",
       "\n",
       "       [[2, 1],\n",
       "        [6, 8],\n",
       "        [1, 1]]])"
      ]
     },
     "execution_count": 41,
     "metadata": {},
     "output_type": "execute_result"
    }
   ],
   "source": [
    "ar_1"
   ]
  },
  {
   "cell_type": "code",
   "execution_count": 42,
   "id": "4ced6fb6-32b0-4a00-8f00-d4c9eeb3f45d",
   "metadata": {},
   "outputs": [
    {
     "data": {
      "text/plain": [
       "array([[[2, 2],\n",
       "        [5, 3],\n",
       "        [7, 6]],\n",
       "\n",
       "       [[7, 4],\n",
       "        [8, 7],\n",
       "        [8, 3]]])"
      ]
     },
     "execution_count": 42,
     "metadata": {},
     "output_type": "execute_result"
    }
   ],
   "source": [
    "ar_2"
   ]
  },
  {
   "cell_type": "markdown",
   "id": "5b7ef11c-cd84-413a-9467-a26807c01f4e",
   "metadata": {},
   "source": [
    "##### Basic Arithmetics Operations"
   ]
  },
  {
   "cell_type": "code",
   "execution_count": 43,
   "id": "44f67c7c-bf05-4dbe-89ee-6f34f246b889",
   "metadata": {},
   "outputs": [
    {
     "data": {
      "text/plain": [
       "array([[[11,  7],\n",
       "        [12, 11],\n",
       "        [ 8,  8]],\n",
       "\n",
       "       [[ 9,  5],\n",
       "        [14, 15],\n",
       "        [ 9,  4]]])"
      ]
     },
     "execution_count": 43,
     "metadata": {},
     "output_type": "execute_result"
    }
   ],
   "source": [
    "# Array additiom\n",
    "np.add(ar_1, ar_2)"
   ]
  },
  {
   "cell_type": "code",
   "execution_count": null,
   "id": "dec1e877-c4bb-4241-93bc-277480e8b44e",
   "metadata": {},
   "outputs": [],
   "source": [
    "\n"
   ]
  },
  {
   "cell_type": "code",
   "execution_count": 45,
   "id": "a49e0a0f-75bc-430d-b52c-e6126e89faf6",
   "metadata": {},
   "outputs": [
    {
     "data": {
      "text/plain": [
       "array([[[ 7,  3],\n",
       "        [ 2,  5],\n",
       "        [-6, -4]],\n",
       "\n",
       "       [[-5, -3],\n",
       "        [-2,  1],\n",
       "        [-7, -2]]])"
      ]
     },
     "execution_count": 45,
     "metadata": {},
     "output_type": "execute_result"
    }
   ],
   "source": [
    "# Array substraction\n",
    "np.subtract(ar_1, ar_2)"
   ]
  },
  {
   "cell_type": "code",
   "execution_count": 46,
   "id": "c9a5eb87-d53f-49be-a366-3451dd468087",
   "metadata": {},
   "outputs": [
    {
     "data": {
      "text/plain": [
       "array([[[4.5       , 2.5       ],\n",
       "        [1.4       , 2.66666667],\n",
       "        [0.14285714, 0.33333333]],\n",
       "\n",
       "       [[0.28571429, 0.25      ],\n",
       "        [0.75      , 1.14285714],\n",
       "        [0.125     , 0.33333333]]])"
      ]
     },
     "execution_count": 46,
     "metadata": {},
     "output_type": "execute_result"
    }
   ],
   "source": [
    "# Array division\n",
    "np.divide(ar_1, ar_2)\n"
   ]
  },
  {
   "cell_type": "code",
   "execution_count": 47,
   "id": "9f90deb3-fc3b-4321-9c86-d31a0fceac4d",
   "metadata": {},
   "outputs": [
    {
     "data": {
      "text/plain": [
       "array([[[18, 10],\n",
       "        [35, 24],\n",
       "        [ 7, 12]],\n",
       "\n",
       "       [[14,  4],\n",
       "        [48, 56],\n",
       "        [ 8,  3]]])"
      ]
     },
     "execution_count": 47,
     "metadata": {},
     "output_type": "execute_result"
    }
   ],
   "source": [
    "# Array Multiplication\n",
    "np.multiply(ar_1, ar_2)"
   ]
  },
  {
   "cell_type": "code",
   "execution_count": null,
   "id": "7d95e4d0-2e44-4e07-abb4-a39921488f6d",
   "metadata": {},
   "outputs": [],
   "source": []
  },
  {
   "cell_type": "markdown",
   "id": "9a366101-615c-4d1d-8795-397157237487",
   "metadata": {},
   "source": [
    "### Statistical Operations"
   ]
  },
  {
   "cell_type": "markdown",
   "id": "44d99fcb-ba44-49f5-b8fd-2d25bbd639e5",
   "metadata": {},
   "source": [
    "Common NumPy statistical operations using a sample array:"
   ]
  },
  {
   "cell_type": "code",
   "execution_count": 51,
   "id": "56aac7a0-9d73-48ac-aa54-f990ef0e6be1",
   "metadata": {},
   "outputs": [
    {
     "data": {
      "text/plain": [
       "array([[1, 2, 3],\n",
       "       [4, 5, 6],\n",
       "       [7, 8, 9]])"
      ]
     },
     "execution_count": 51,
     "metadata": {},
     "output_type": "execute_result"
    }
   ],
   "source": [
    "example_array = np.array([[1, 2, 3],\n",
    "                         [4, 5, 6],\n",
    "                         [7, 8, 9]])\n",
    "example_array\n"
   ]
  },
  {
   "cell_type": "code",
   "execution_count": 52,
   "id": "d0c6110e-b7d3-487c-b222-f0f2de965565",
   "metadata": {},
   "outputs": [
    {
     "data": {
      "text/plain": [
       "(3, 3)"
      ]
     },
     "execution_count": 52,
     "metadata": {},
     "output_type": "execute_result"
    }
   ],
   "source": [
    "example_array.shape"
   ]
  },
  {
   "cell_type": "markdown",
   "id": "54f08814-70fb-46ad-a3fa-2829029002a5",
   "metadata": {},
   "source": [
    "#### Mean\n"
   ]
  },
  {
   "cell_type": "code",
   "execution_count": 53,
   "id": "25f79dd9-c6f9-426d-887f-35828dc41ccf",
   "metadata": {},
   "outputs": [
    {
     "data": {
      "text/plain": [
       "5.0"
      ]
     },
     "execution_count": 53,
     "metadata": {},
     "output_type": "execute_result"
    }
   ],
   "source": [
    "np.mean(example_array)\n"
   ]
  },
  {
   "cell_type": "markdown",
   "id": "7778e22b-f2da-46c0-aeb0-ab2b96907510",
   "metadata": {},
   "source": [
    "The average value of all elements in the array.\n",
    "\n"
   ]
  },
  {
   "cell_type": "markdown",
   "id": "738001e6-bc57-40c1-9801-47eb22a6345f",
   "metadata": {},
   "source": [
    "#### Median"
   ]
  },
  {
   "cell_type": "code",
   "execution_count": 54,
   "id": "aa7d55e1-c9ed-40e6-a6a3-fae1d1a4dfb5",
   "metadata": {},
   "outputs": [
    {
     "data": {
      "text/plain": [
       "5.0"
      ]
     },
     "execution_count": 54,
     "metadata": {},
     "output_type": "execute_result"
    }
   ],
   "source": [
    "np.median(example_array)\n"
   ]
  },
  {
   "cell_type": "markdown",
   "id": "14dd5ab2-219b-4abd-b53f-da2fe14ac953",
   "metadata": {},
   "source": [
    "The middle value when the elements are sorted.\n",
    "\n"
   ]
  },
  {
   "cell_type": "markdown",
   "id": "e571dc75-c12a-4794-b8e4-29b1af2408e9",
   "metadata": {},
   "source": [
    "#### Standard Deviation\n"
   ]
  },
  {
   "cell_type": "code",
   "execution_count": 56,
   "id": "dec1eaa7-5816-469c-9e92-50e29220f38e",
   "metadata": {},
   "outputs": [
    {
     "data": {
      "text/plain": [
       "2.581988897471611"
      ]
     },
     "execution_count": 56,
     "metadata": {},
     "output_type": "execute_result"
    }
   ],
   "source": [
    "np.std(example_array)\n"
   ]
  },
  {
   "cell_type": "markdown",
   "id": "65934e37-f563-4a93-bf4b-b7d56cc9d612",
   "metadata": {},
   "source": [
    "Measures how spread out the numbers are from the mean."
   ]
  },
  {
   "cell_type": "markdown",
   "id": "8164f5ec-bd78-4f5a-8317-27861ded6ba2",
   "metadata": {},
   "source": [
    " #### Maximum and Minimum"
   ]
  },
  {
   "cell_type": "code",
   "execution_count": 59,
   "id": "053c375c-61e5-41c0-a6c3-1409f58c3940",
   "metadata": {},
   "outputs": [
    {
     "data": {
      "text/plain": [
       "(9, 1)"
      ]
     },
     "execution_count": 59,
     "metadata": {},
     "output_type": "execute_result"
    }
   ],
   "source": [
    "np.max(example_array), np.min(example_array)\n"
   ]
  },
  {
   "cell_type": "markdown",
   "id": "fe702981-c2f7-4cc1-a821-7783975185f2",
   "metadata": {},
   "source": [
    "#### Sum"
   ]
  },
  {
   "cell_type": "code",
   "execution_count": 60,
   "id": "366b8dcc-0e08-4d98-8852-84465e6a1dc1",
   "metadata": {},
   "outputs": [
    {
     "data": {
      "text/plain": [
       "45"
      ]
     },
     "execution_count": 60,
     "metadata": {},
     "output_type": "execute_result"
    }
   ],
   "source": [
    "np.sum(example_array)\n"
   ]
  },
  {
   "cell_type": "markdown",
   "id": "5ed10916-53e7-49be-9074-a5f1b4975137",
   "metadata": {},
   "source": [
    "The total of all elements."
   ]
  },
  {
   "cell_type": "markdown",
   "id": "7e65c563-8c0d-459a-ae2c-f7562c924de3",
   "metadata": {},
   "source": [
    "#### Argmax and Argmin"
   ]
  },
  {
   "cell_type": "code",
   "execution_count": 61,
   "id": "77acddca-9ae8-4ac4-8fd1-93e2a4cafb6d",
   "metadata": {},
   "outputs": [
    {
     "data": {
      "text/plain": [
       "(8, 0)"
      ]
     },
     "execution_count": 61,
     "metadata": {},
     "output_type": "execute_result"
    }
   ],
   "source": [
    "np.argmax(example_array), np.argmin(example_array)\n"
   ]
  },
  {
   "cell_type": "markdown",
   "id": "d9a38782-8f15-4d69-a437-78069662a014",
   "metadata": {},
   "source": [
    "##### Outputs:\n",
    "\n",
    " - Argmax: 8 (Index of the maximum value in the flattened   array.)\n",
    "\n",
    " - Argmin: 0 (Index of the minimum value in the flattened array.)"
   ]
  },
  {
   "cell_type": "code",
   "execution_count": null,
   "id": "161807d6-d9e2-49f4-b60f-22bfab27e415",
   "metadata": {},
   "outputs": [],
   "source": []
  },
  {
   "cell_type": "code",
   "execution_count": null,
   "id": "1e395244-f34f-40cc-ac63-b48d90d9552d",
   "metadata": {},
   "outputs": [],
   "source": []
  },
  {
   "cell_type": "markdown",
   "id": "eb2aaabd-eb55-4ea5-a542-4ebec13a3c4d",
   "metadata": {},
   "source": [
    "### Update Array values"
   ]
  },
  {
   "cell_type": "code",
   "execution_count": 62,
   "id": "355d7ed8-79d8-4d8f-a1ce-909d2b3a4c7b",
   "metadata": {},
   "outputs": [
    {
     "data": {
      "text/plain": [
       "array([[[74, 31,  5, 29],\n",
       "        [84, 77, 66, 98],\n",
       "        [62, 76, 54, 80]],\n",
       "\n",
       "       [[32, 17,  8, 91],\n",
       "        [81, 37, 87, 37],\n",
       "        [18, 27, 13, 55]],\n",
       "\n",
       "       [[67, 70, 71, 98],\n",
       "        [86, 67, 22, 25],\n",
       "        [62, 75, 96, 15]],\n",
       "\n",
       "       [[58, 95, 79, 79],\n",
       "        [82, 96,  6,  7],\n",
       "        [56, 59, 37, 54]]])"
      ]
     },
     "execution_count": 62,
     "metadata": {},
     "output_type": "execute_result"
    }
   ],
   "source": [
    "arr3d"
   ]
  },
  {
   "cell_type": "code",
   "execution_count": 63,
   "id": "ddb2e4fa-516a-4a28-bee6-3c9de022c629",
   "metadata": {},
   "outputs": [],
   "source": [
    "arr3d[0][0][3] = 2000"
   ]
  },
  {
   "cell_type": "code",
   "execution_count": 64,
   "id": "26d0b710-7311-41c3-b8d3-773f92258390",
   "metadata": {},
   "outputs": [
    {
     "data": {
      "text/plain": [
       "array([[[  74,   31,    5, 2000],\n",
       "        [  84,   77,   66,   98],\n",
       "        [  62,   76,   54,   80]],\n",
       "\n",
       "       [[  32,   17,    8,   91],\n",
       "        [  81,   37,   87,   37],\n",
       "        [  18,   27,   13,   55]],\n",
       "\n",
       "       [[  67,   70,   71,   98],\n",
       "        [  86,   67,   22,   25],\n",
       "        [  62,   75,   96,   15]],\n",
       "\n",
       "       [[  58,   95,   79,   79],\n",
       "        [  82,   96,    6,    7],\n",
       "        [  56,   59,   37,   54]]])"
      ]
     },
     "execution_count": 64,
     "metadata": {},
     "output_type": "execute_result"
    }
   ],
   "source": [
    "arr3d"
   ]
  },
  {
   "cell_type": "code",
   "execution_count": null,
   "id": "204ea94b-ea38-45ba-af2c-b42ca2d625b5",
   "metadata": {},
   "outputs": [],
   "source": []
  },
  {
   "cell_type": "markdown",
   "id": "b4203b67-f35e-4339-9ca1-874c1e74321b",
   "metadata": {},
   "source": [
    "### Sorting Array"
   ]
  },
  {
   "cell_type": "code",
   "execution_count": 66,
   "id": "ff4dc649-d9ff-438a-9fa4-e4443e57a8ff",
   "metadata": {},
   "outputs": [
    {
     "data": {
      "text/plain": [
       "array([[[   5,   31,   74, 2000],\n",
       "        [  66,   77,   84,   98],\n",
       "        [  54,   62,   76,   80]],\n",
       "\n",
       "       [[   8,   17,   32,   91],\n",
       "        [  37,   37,   81,   87],\n",
       "        [  13,   18,   27,   55]],\n",
       "\n",
       "       [[  67,   70,   71,   98],\n",
       "        [  22,   25,   67,   86],\n",
       "        [  15,   62,   75,   96]],\n",
       "\n",
       "       [[  58,   79,   79,   95],\n",
       "        [   6,    7,   82,   96],\n",
       "        [  37,   54,   56,   59]]])"
      ]
     },
     "execution_count": 66,
     "metadata": {},
     "output_type": "execute_result"
    }
   ],
   "source": [
    "arr3d.sort()\n",
    "arr3d"
   ]
  },
  {
   "cell_type": "code",
   "execution_count": null,
   "id": "906a4e3b-2a02-4113-b57b-38ebd1e108f6",
   "metadata": {},
   "outputs": [],
   "source": []
  },
  {
   "cell_type": "markdown",
   "id": "71bfaf51-129f-4e62-92f5-435fbfc64bc2",
   "metadata": {},
   "source": [
    "### Reshaping Array"
   ]
  },
  {
   "cell_type": "code",
   "execution_count": 67,
   "id": "0177779b-96b5-4d32-8ded-ca32b47a9036",
   "metadata": {},
   "outputs": [
    {
     "data": {
      "text/plain": [
       "(4, 3, 4)"
      ]
     },
     "execution_count": 67,
     "metadata": {},
     "output_type": "execute_result"
    }
   ],
   "source": [
    "arr3d.shape"
   ]
  },
  {
   "cell_type": "code",
   "execution_count": 68,
   "id": "b07a1a61-fe94-4024-9309-30b7b8d8810c",
   "metadata": {},
   "outputs": [
    {
     "data": {
      "text/plain": [
       "array([[[   5,   31,   74, 2000],\n",
       "        [  66,   77,   84,   98],\n",
       "        [  54,   62,   76,   80],\n",
       "        [   8,   17,   32,   91]],\n",
       "\n",
       "       [[  37,   37,   81,   87],\n",
       "        [  13,   18,   27,   55],\n",
       "        [  67,   70,   71,   98],\n",
       "        [  22,   25,   67,   86]],\n",
       "\n",
       "       [[  15,   62,   75,   96],\n",
       "        [  58,   79,   79,   95],\n",
       "        [   6,    7,   82,   96],\n",
       "        [  37,   54,   56,   59]]])"
      ]
     },
     "execution_count": 68,
     "metadata": {},
     "output_type": "execute_result"
    }
   ],
   "source": [
    "arr3d_newshape = arr3d.reshape((3, 4, 4))\n",
    "arr3d_newshape"
   ]
  },
  {
   "cell_type": "code",
   "execution_count": null,
   "id": "177f21db-eabb-4cfd-9cd3-bd7abf24a263",
   "metadata": {},
   "outputs": [],
   "source": []
  },
  {
   "cell_type": "code",
   "execution_count": null,
   "id": "7dac13ec-eb4a-40bb-be69-7d15e526186f",
   "metadata": {},
   "outputs": [],
   "source": []
  },
  {
   "cell_type": "code",
   "execution_count": null,
   "id": "2d918ff3-a5be-45fd-a94f-7f7e283644d1",
   "metadata": {},
   "outputs": [],
   "source": []
  },
  {
   "cell_type": "markdown",
   "id": "d140644e-3560-4fd0-b6e4-7d832516391c",
   "metadata": {},
   "source": [
    "### Appending and inserting"
   ]
  },
  {
   "cell_type": "markdown",
   "id": "f8551e4e-63dd-46d6-87f3-d9dbbbf8b41d",
   "metadata": {},
   "source": [
    "#### Appending"
   ]
  },
  {
   "cell_type": "code",
   "execution_count": 72,
   "id": "8f1e957b-b096-441e-957b-81fd1eb18779",
   "metadata": {},
   "outputs": [],
   "source": [
    "zeros = np.zeros((3, 2, 3))\n",
    "ones = np.ones((3, 2, 3))\n"
   ]
  },
  {
   "cell_type": "code",
   "execution_count": 73,
   "id": "ccc1b9ca-fde3-4ced-a4c0-9f4e4a8bdade",
   "metadata": {},
   "outputs": [
    {
     "data": {
      "text/plain": [
       "array([[[0., 0., 0.],\n",
       "        [0., 0., 0.]],\n",
       "\n",
       "       [[0., 0., 0.],\n",
       "        [0., 0., 0.]],\n",
       "\n",
       "       [[0., 0., 0.],\n",
       "        [0., 0., 0.]]])"
      ]
     },
     "execution_count": 73,
     "metadata": {},
     "output_type": "execute_result"
    }
   ],
   "source": [
    "zeros"
   ]
  },
  {
   "cell_type": "code",
   "execution_count": 74,
   "id": "932e7318-8e82-499c-b2bf-c083c3f4a966",
   "metadata": {},
   "outputs": [
    {
     "data": {
      "text/plain": [
       "array([[[1., 1., 1.],\n",
       "        [1., 1., 1.]],\n",
       "\n",
       "       [[1., 1., 1.],\n",
       "        [1., 1., 1.]],\n",
       "\n",
       "       [[1., 1., 1.],\n",
       "        [1., 1., 1.]]])"
      ]
     },
     "execution_count": 74,
     "metadata": {},
     "output_type": "execute_result"
    }
   ],
   "source": [
    "ones"
   ]
  },
  {
   "cell_type": "code",
   "execution_count": 76,
   "id": "4e098f69-086e-4fd9-8297-b44bd56239a8",
   "metadata": {},
   "outputs": [
    {
     "data": {
      "text/plain": [
       "array([[[0., 0., 0.],\n",
       "        [0., 0., 0.]],\n",
       "\n",
       "       [[0., 0., 0.],\n",
       "        [0., 0., 0.]],\n",
       "\n",
       "       [[0., 0., 0.],\n",
       "        [0., 0., 0.]],\n",
       "\n",
       "       [[1., 1., 1.],\n",
       "        [1., 1., 1.]],\n",
       "\n",
       "       [[1., 1., 1.],\n",
       "        [1., 1., 1.]],\n",
       "\n",
       "       [[1., 1., 1.],\n",
       "        [1., 1., 1.]]])"
      ]
     },
     "execution_count": 76,
     "metadata": {},
     "output_type": "execute_result"
    }
   ],
   "source": [
    "appendarr = np.append(zeros, ones, axis=0)\n",
    "# axis 0 = row, axis 1 = column\n",
    "appendarr"
   ]
  },
  {
   "cell_type": "code",
   "execution_count": null,
   "id": "d987132a-136f-40c2-86fb-8941fb3cf233",
   "metadata": {},
   "outputs": [],
   "source": []
  },
  {
   "cell_type": "markdown",
   "id": "3ae84696-a201-4355-b52f-58c2536a3255",
   "metadata": {},
   "source": [
    "#### Inserting"
   ]
  },
  {
   "cell_type": "code",
   "execution_count": 77,
   "id": "eeea84b3-7426-4409-9e96-5d74045e2df3",
   "metadata": {},
   "outputs": [
    {
     "data": {
      "text/plain": [
       "array([[[1., 1., 1.],\n",
       "        [1., 1., 1.]],\n",
       "\n",
       "       [[1., 1., 1.],\n",
       "        [1., 1., 1.]],\n",
       "\n",
       "       [[1., 1., 1.],\n",
       "        [1., 1., 1.]]])"
      ]
     },
     "execution_count": 77,
     "metadata": {},
     "output_type": "execute_result"
    }
   ],
   "source": [
    "ones"
   ]
  },
  {
   "cell_type": "code",
   "execution_count": 78,
   "id": "087600bb-9086-418c-9373-b80cf97b164d",
   "metadata": {},
   "outputs": [
    {
     "data": {
      "text/plain": [
       "array([[[0., 0., 0.],\n",
       "        [0., 0., 0.]],\n",
       "\n",
       "       [[0., 0., 0.],\n",
       "        [0., 0., 0.]],\n",
       "\n",
       "       [[0., 0., 0.],\n",
       "        [0., 0., 0.]]])"
      ]
     },
     "execution_count": 78,
     "metadata": {},
     "output_type": "execute_result"
    }
   ],
   "source": [
    "zeros"
   ]
  },
  {
   "cell_type": "code",
   "execution_count": 79,
   "id": "18d4d20a-f85e-4928-823d-157f2e833259",
   "metadata": {},
   "outputs": [
    {
     "data": {
      "text/plain": [
       "array([[[0., 0., 0.],\n",
       "        [0., 0., 0.]],\n",
       "\n",
       "       [[1., 1., 1.],\n",
       "        [1., 1., 1.]],\n",
       "\n",
       "       [[1., 1., 1.],\n",
       "        [1., 1., 1.]],\n",
       "\n",
       "       [[1., 1., 1.],\n",
       "        [1., 1., 1.]],\n",
       "\n",
       "       [[0., 0., 0.],\n",
       "        [0., 0., 0.]],\n",
       "\n",
       "       [[0., 0., 0.],\n",
       "        [0., 0., 0.]]])"
      ]
     },
     "execution_count": 79,
     "metadata": {},
     "output_type": "execute_result"
    }
   ],
   "source": [
    "insertedarray = np.insert(zeros, 1, ones, axis=0)\n",
    "insertedarray"
   ]
  },
  {
   "cell_type": "code",
   "execution_count": null,
   "id": "2661bb0f-f240-4113-aa1a-d7464c19876d",
   "metadata": {},
   "outputs": [],
   "source": []
  }
 ],
 "metadata": {
  "kernelspec": {
   "display_name": "Python 3 (ipykernel)",
   "language": "python",
   "name": "python3"
  },
  "language_info": {
   "codemirror_mode": {
    "name": "ipython",
    "version": 3
   },
   "file_extension": ".py",
   "mimetype": "text/x-python",
   "name": "python",
   "nbconvert_exporter": "python",
   "pygments_lexer": "ipython3",
   "version": "3.12.4"
  }
 },
 "nbformat": 4,
 "nbformat_minor": 5
}
